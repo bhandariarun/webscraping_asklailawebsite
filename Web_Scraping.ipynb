{
  "cells": [
    {
      "cell_type": "markdown",
      "metadata": {
        "id": "view-in-github",
        "colab_type": "text"
      },
      "source": [
        "<a href=\"https://colab.research.google.com/github/bhandariarun/webscraping_asklailawebsite/blob/main/Web_Scraping.ipynb\" target=\"_parent\"><img src=\"https://colab.research.google.com/assets/colab-badge.svg\" alt=\"Open In Colab\"/></a>"
      ]
    },
    {
      "cell_type": "code",
      "execution_count": 1,
      "metadata": {
        "id": "gJXKCSMiaKGD"
      },
      "outputs": [],
      "source": [
        "import requests"
      ]
    },
    {
      "cell_type": "code",
      "execution_count": 2,
      "metadata": {
        "id": "bbt0uVdPaSYs"
      },
      "outputs": [],
      "source": [
        "from bs4 import BeautifulSoup"
      ]
    },
    {
      "cell_type": "code",
      "execution_count": 3,
      "metadata": {
        "id": "MU7OtkbeaZWr"
      },
      "outputs": [],
      "source": [
        "u = \"https://www.asklaila.com/search/Delhi-NCR/-/restaurant/\""
      ]
    },
    {
      "cell_type": "code",
      "execution_count": 4,
      "metadata": {
        "id": "QbdU-_kJagEE"
      },
      "outputs": [],
      "source": [
        "header = {\n",
        "    'Accept': 'text/html,application/xhtml+xml,application/xml;q=0.9,image/webp,image/apng,*/*;q=0.8,application/signed-exchange;v=b3;q=0.9',\n",
        "    'Accept-Encoding': 'gzip, deflate, br',\n",
        "    'Accept-Language': 'en-US,en;q=0.9',\n",
        "    'Cache-Control': 'max-age=0',\n",
        "    'Connection': 'keep-alive',\n",
        "    'Cookie': 'b=1|00000000355f9f91110204a4756931f6; bha_code=en; _ga=GA1.3.1367231939.1675932711; _gid=GA1.3.613567833.1675932711; ci=Mumbai; ci=Mumbai; PushSubscriberStatus=CLOSED; peclosed=true; JSESSIONID=46397EDA7BC378E017B6AAB64090A87A; JSESSIONID=46397EDA7BC378E017B6AAB64090A87A; tci=Mumbai',\n",
        "    'DNT': '1',\n",
        "    'Host': 'www.asklaila.com',\n",
        "    'Referer': 'https://www.asklaila.com/search/Chennai/-/shopping-malls/40',\n",
        "    'sec-ch-ua': '\"Not_A Brand\";v=\"99\", \"Microsoft Edge\";v=\"109\", \"Chromium\";v=\"109\"',\n",
        "    'sec-ch-ua-mobile': '?0',\n",
        "    'sec-ch-ua-platform': '\"Windows\"',\n",
        "    'Sec-Fetch-Dest': 'document',\n",
        "    'Sec-Fetch-Mode': 'navigate',\n",
        "    'Sec-Fetch-Site': 'same-origin',\n",
        "    'Sec-Fetch-User': '?1',\n",
        "    'Upgrade-Insecure-Requests': '1',\n",
        "    'User-Agent': 'Mozilla/5.0 (Windows NT 10.0; Win64; x64) AppleWebKit/537.36 (KHTML, like Gecko) Chrome/109.0.0.0 Safari/537.36 Edg/109.0.1518.78'\n",
        "}"
      ]
    },
    {
      "cell_type": "code",
      "execution_count": null,
      "metadata": {
        "colab": {
          "background_save": true,
          "base_uri": "https://localhost:8080/"
        },
        "id": "s0Q-8DVtamJD",
        "outputId": "9f61f596-f023-4d91-f537-3b492d641d9b"
      },
      "outputs": [
        {
          "output_type": "stream",
          "name": "stdout",
          "text": [
            "0\n",
            "[<label class=\"phonedisplay\">\n",
            "<span class=\"sprite3 icon_Call\" data-placement=\"top\" data-toggle=\"tooltip\" title=\"Contact Numbers\"> </span>\n",
            "01242349901</label>, <label class=\"phonedisplay\">\n",
            "<span class=\"sprite3 icon_Call\" data-placement=\"top\" data-toggle=\"tooltip\" title=\"Contact Numbers\"> </span>\n",
            "01127437427\n",
            "\t\t\t\t\t\t\t\t\t\t\t\t\t\t,\n",
            "\n",
            "09868605094</label>, <label class=\"phonedisplay\">\n",
            "<span class=\"sprite3 icon_Call\" data-placement=\"top\" data-toggle=\"tooltip\" title=\"Contact Numbers\"> </span>\n",
            "01165259328\n",
            "\t\t\t\t\t\t\t\t\t\t\t\t\t\t,\n",
            "\n",
            "09971439997</label>, <label class=\"phonedisplay\">\n",
            "<span class=\"sprite3 icon_Call\" data-placement=\"top\" data-toggle=\"tooltip\" title=\"Contact Numbers\"> </span>\n",
            "01127437760</label>, <label class=\"phonedisplay\">\n",
            "<span class=\"sprite3 icon_Call\" data-placement=\"top\" data-toggle=\"tooltip\" title=\"Contact Numbers\"> </span>\n",
            "01203265409\n",
            "\t\t\t\t\t\t\t\t\t\t\t\t\t\t,\n",
            "\n",
            "09810650292</label>, <label class=\"phonedisplay\">\n",
            "<span class=\"sprite3 icon_Call\" data-placement=\"top\" data-toggle=\"tooltip\" title=\"Contact Numbers\"> </span>\n",
            "01125754240</label>, <label class=\"phonedisplay\">\n",
            "<span class=\"sprite3 icon_Call\" data-placement=\"top\" data-toggle=\"tooltip\" title=\"Contact Numbers\"> </span>\n",
            "01122012093\n",
            "\t\t\t\t\t\t\t\t\t\t\t\t\t\t,\n",
            "\n",
            "09213117144</label>, <label class=\"phonedisplay\">\n",
            "<span class=\"sprite3 icon_Call\" data-placement=\"top\" data-toggle=\"tooltip\" title=\"Contact Numbers\"> </span>\n",
            "01125741111</label>, <label class=\"phonedisplay\">\n",
            "<span class=\"sprite3 icon_Call\" data-placement=\"top\" data-toggle=\"tooltip\" title=\"Contact Numbers\"> </span>\n",
            "01125652223</label>, <label class=\"phonedisplay\">\n",
            "<span class=\"sprite3 icon_Call\" data-placement=\"top\" data-toggle=\"tooltip\" title=\"Contact Numbers\"> </span>\n",
            "01122046666\n",
            "\t\t\t\t\t\t\t\t\t\t\t\t\t\t,\n",
            "\n",
            "09871088881</label>, <label class=\"phonedisplay\">\n",
            "<span class=\"sprite3 icon_Call\" data-placement=\"top\" data-toggle=\"tooltip\" title=\"Contact Numbers\"> </span>\n",
            "01123648547</label>, <label class=\"phonedisplay\">\n",
            "<span class=\"sprite3 icon_Call\" data-placement=\"top\" data-toggle=\"tooltip\" title=\"Contact Numbers\"> </span>\n",
            "01126846644</label>, <label class=\"phonedisplay\">\n",
            "<span class=\"sprite3 icon_Call\" data-placement=\"top\" data-toggle=\"tooltip\" title=\"Contact Numbers\"> </span>\n",
            "01132638100</label>, <label class=\"phonedisplay\">\n",
            "<span class=\"sprite3 icon_Call\" data-placement=\"top\" data-toggle=\"tooltip\" title=\"Contact Numbers\"> </span>\n",
            "01126110101</label>, <label class=\"phonedisplay\">\n",
            "<span class=\"sprite3 icon_Call\" data-placement=\"top\" data-toggle=\"tooltip\" title=\"Contact Numbers\"> </span>\n",
            "01123840832</label>, <label class=\"phonedisplay\">\n",
            "<span class=\"sprite3 icon_Call\" data-placement=\"top\" data-toggle=\"tooltip\" title=\"Contact Numbers\"> </span>\n",
            "01132918508\n",
            "\t\t\t\t\t\t\t\t\t\t\t\t\t\t,\n",
            "\n",
            "09810587101</label>]\n",
            "01242349901\n",
            "01127437427\n",
            "09868605094\n",
            "01165259328\n",
            "09971439997\n",
            "01127437760\n",
            "01203265409\n",
            "09810650292\n",
            "01125754240\n",
            "01122012093\n",
            "09213117144\n",
            "01125741111\n",
            "01125652223\n",
            "01122046666\n",
            "09871088881\n",
            "01123648547\n",
            "01126846644\n",
            "01132638100\n",
            "01126110101\n",
            "01123840832\n",
            "01132918508\n",
            "09810587101\n",
            "20\n",
            "[<label class=\"phonedisplay\">\n",
            "<span class=\"sprite3 icon_Call\" data-placement=\"top\" data-toggle=\"tooltip\" title=\"Contact Numbers\"> </span>\n",
            "01126289054\n",
            "\t\t\t\t\t\t\t\t\t\t\t\t\t\t,\n",
            "\n",
            "09810671962</label>, <label class=\"phonedisplay\">\n",
            "<span class=\"sprite3 icon_Call\" data-placement=\"top\" data-toggle=\"tooltip\" title=\"Contact Numbers\"> </span>\n",
            "01128725196\n",
            "\t\t\t\t\t\t\t\t\t\t\t\t\t\t,\n",
            "\n",
            "09311117677</label>, <label class=\"phonedisplay\">\n",
            "<span class=\"sprite3 icon_Call\" data-placement=\"top\" data-toggle=\"tooltip\" title=\"Contact Numbers\"> </span>\n",
            "01127476901\n",
            "\t\t\t\t\t\t\t\t\t\t\t\t\t\t,\n",
            "\n",
            "09350876277</label>, <label class=\"phonedisplay\">\n",
            "<span class=\"sprite3 icon_Call\" data-placement=\"top\" data-toggle=\"tooltip\" title=\"Contact Numbers\"> </span>\n",
            "01127312503</label>, <label class=\"phonedisplay\">\n",
            "<span class=\"sprite3 icon_Call\" data-placement=\"top\" data-toggle=\"tooltip\" title=\"Contact Numbers\"> </span>\n",
            "01126511222</label>, <label class=\"phonedisplay\">\n",
            "<span class=\"sprite3 icon_Call\" data-placement=\"top\" data-toggle=\"tooltip\" title=\"Contact Numbers\"> </span>\n",
            "01164696032\n",
            "\t\t\t\t\t\t\t\t\t\t\t\t\t\t,\n",
            "\n",
            "09810216575</label>, <label class=\"phonedisplay\">\n",
            "<span class=\"sprite3 icon_Call\" data-placement=\"top\" data-toggle=\"tooltip\" title=\"Contact Numbers\"> </span>\n",
            "01126960426\n",
            "\t\t\t\t\t\t\t\t\t\t\t\t\t\t,\n",
            "\n",
            "09811045046</label>, <label class=\"phonedisplay\">\n",
            "<span class=\"sprite3 icon_Call\" data-placement=\"top\" data-toggle=\"tooltip\" title=\"Contact Numbers\"> </span>\n",
            "01126187357\n",
            "\t\t\t\t\t\t\t\t\t\t\t\t\t\t,\n",
            "\n",
            "09313370092</label>, <label class=\"phonedisplay\">\n",
            "<span class=\"sprite3 icon_Call\" data-placement=\"top\" data-toggle=\"tooltip\" title=\"Contact Numbers\"> </span>\n",
            "01123586128\n",
            "\t\t\t\t\t\t\t\t\t\t\t\t\t\t,\n",
            "\n",
            "09873417780</label>, <label class=\"phonedisplay\">\n",
            "<span class=\"sprite3 icon_Call\" data-placement=\"top\" data-toggle=\"tooltip\" title=\"Contact Numbers\"> </span>\n",
            "01122467219\n",
            "\t\t\t\t\t\t\t\t\t\t\t\t\t\t,\n",
            "\n",
            "09891664131</label>]\n",
            "01126289054\n",
            "09810671962\n",
            "01128725196\n",
            "09311117677\n",
            "01127476901\n",
            "09350876277\n",
            "01127312503\n",
            "01126511222\n",
            "01164696032\n",
            "09810216575\n",
            "01126960426\n",
            "09811045046\n",
            "01126187357\n",
            "09313370092\n",
            "01123586128\n",
            "09873417780\n",
            "01122467219\n",
            "09891664131\n",
            "40\n",
            "[]\n",
            "60\n",
            "[]\n",
            "80\n",
            "[]\n",
            "100\n",
            "[]\n",
            "120\n",
            "[]\n",
            "140\n",
            "[]\n",
            "160\n",
            "[]\n",
            "180\n",
            "[]\n",
            "200\n",
            "[]\n",
            "220\n",
            "[]\n",
            "240\n",
            "[]\n",
            "260\n",
            "[]\n",
            "280\n",
            "[]\n",
            "300\n",
            "[]\n",
            "320\n",
            "[]\n",
            "340\n",
            "[]\n",
            "360\n",
            "[]\n",
            "380\n",
            "[]\n",
            "400\n",
            "[]\n",
            "420\n",
            "[]\n",
            "440\n",
            "[]\n",
            "460\n",
            "[]\n",
            "480\n",
            "[]\n",
            "500\n",
            "[]\n",
            "520\n",
            "[]\n",
            "540\n",
            "[]\n",
            "560\n",
            "[]\n",
            "580\n",
            "[]\n",
            "600\n",
            "[]\n",
            "620\n",
            "[]\n",
            "640\n",
            "[]\n",
            "660\n",
            "[]\n",
            "680\n",
            "[]\n",
            "700\n",
            "[]\n",
            "720\n"
          ]
        }
      ],
      "source": [
        "for k in range(0,1000000,20):\n",
        "    print(k)\n",
        "    if not k==0:\n",
        "        u=u+str(k)+'/'\n",
        "    d = requests.get(u, headers=header)\n",
        "    data = BeautifulSoup(d.text, 'html.parser')\n",
        "    x = data.find_all(\"label\", {\"class\": \"phonedisplay\"})\n",
        "    print(x)\n",
        "    for i in x:\n",
        "        y = i.text\n",
        "        s = y.replace('\\n', '').replace('\\t', '').replace(' ', '')\n",
        "        z = s.split(',')\n",
        "        for j in z:\n",
        "            m = j\n",
        "            print(m)"
      ]
    },
    {
      "cell_type": "code",
      "execution_count": null,
      "metadata": {
        "id": "_8mCJz0zavhf"
      },
      "outputs": [],
      "source": [
        "import os\n",
        "os.getcwd()"
      ]
    },
    {
      "cell_type": "code",
      "execution_count": null,
      "metadata": {
        "id": "9hy3pj55a8Gt"
      },
      "outputs": [],
      "source": [
        "df = pd.DataFrame(data = x1)\n",
        "df"
      ]
    },
    {
      "cell_type": "code",
      "execution_count": null,
      "metadata": {
        "id": "_7LbJvtvbLni"
      },
      "outputs": [],
      "source": [
        "df.to_excel('w_titles.xlsx', index=False, header=False)\n",
        "print('Spreadsheet saved')"
      ]
    }
  ],
  "metadata": {
    "colab": {
      "provenance": [],
      "mount_file_id": "1EmEm0yGTW-3FgqBVWnuWenSaGyoss6sL",
      "authorship_tag": "ABX9TyN6qjcnDWds6qziq1P0Vgf6",
      "include_colab_link": true
    },
    "kernelspec": {
      "display_name": "Python 3",
      "name": "python3"
    },
    "language_info": {
      "name": "python"
    }
  },
  "nbformat": 4,
  "nbformat_minor": 0
}